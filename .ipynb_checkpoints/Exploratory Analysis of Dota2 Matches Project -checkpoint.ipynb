{
 "cells": [
  {
   "cell_type": "markdown",
   "metadata": {},
   "source": [
    "For this project, we will import data from opendota.com, which is a website that collects data from dota2 matches."
   ]
  },
  {
   "cell_type": "code",
   "execution_count": 19,
   "metadata": {
    "collapsed": true
   },
   "outputs": [],
   "source": [
    "### import libraries\n",
    "import pandas as pd\n",
    "import numpy as np\n",
    "import seaborn as sns\n",
    "import matplotlib.pyplot as plt\n",
    "### Allowing matplotlib to graph directly on jupyter\n",
    "%matplotlib inline"
   ]
  },
  {
   "cell_type": "code",
   "execution_count": 20,
   "metadata": {},
   "outputs": [
    {
     "name": "stderr",
     "output_type": "stream",
     "text": [
      "C:\\Users\\tnguy\\Anaconda3\\lib\\site-packages\\IPython\\core\\interactiveshell.py:2698: DtypeWarning: Columns (27,59,62,68) have mixed types. Specify dtype option on import or set low_memory=False.\n",
      "  interactivity=interactivity, compiler=compiler, result=result)\n"
     ]
    },
    {
     "data": {
      "text/plain": [
       "abandons                    integer\n",
       "account_id                 floating\n",
       "actions_per_min            floating\n",
       "ancient_kills              floating\n",
       "assists                     integer\n",
       "backpack_0                 floating\n",
       "backpack_1                 floating\n",
       "backpack_2                 floating\n",
       "buyback_count              floating\n",
       "camps_stacked              floating\n",
       "cluster                     integer\n",
       "courier_kills              floating\n",
       "creeps_stacked             floating\n",
       "deaths                      integer\n",
       "denies                      integer\n",
       "duration                    integer\n",
       "firstblood_claimed         floating\n",
       "game_mode                   integer\n",
       "gold                       floating\n",
       "gold_per_min                integer\n",
       "gold_spent                 floating\n",
       "hero_damage                floating\n",
       "hero_healing               floating\n",
       "hero_id                     integer\n",
       "hero_kills                 floating\n",
       "isRadiant                   boolean\n",
       "is_contributor              boolean\n",
       "is_roaming                    mixed\n",
       "item_0                      integer\n",
       "item_1                      integer\n",
       "                             ...   \n",
       "patch                      floating\n",
       "performance_others            mixed\n",
       "pings                      floating\n",
       "player_slot                 integer\n",
       "pred_vict                     mixed\n",
       "purchase_gem               floating\n",
       "purchase_rapier            floating\n",
       "purchase_ward_observer     floating\n",
       "purchase_ward_sentry       floating\n",
       "radiant_win                 boolean\n",
       "randomed                      mixed\n",
       "rank_tier                  floating\n",
       "region                     floating\n",
       "repicked                   floating\n",
       "roshan_kills               floating\n",
       "roshans_killed             floating\n",
       "rune_pickups               floating\n",
       "sen_placed                 floating\n",
       "sentry_kills               floating\n",
       "sentry_uses                floating\n",
       "start_time                  integer\n",
       "stuns                      floating\n",
       "teamfight_participation    floating\n",
       "total_gold                  integer\n",
       "total_xp                   floating\n",
       "tower_damage               floating\n",
       "tower_kills                floating\n",
       "towers_killed              floating\n",
       "win                         integer\n",
       "xp_per_min                  integer\n",
       "Length: 88, dtype: object"
      ]
     },
     "execution_count": 20,
     "metadata": {},
     "output_type": "execute_result"
    }
   ],
   "source": [
    "### laod the dataset into a variable df\n",
    "df = pd.read_csv(r'C:\\Users\\tnguy\\OneDrive - Texas Tech University\\Dota2 end to end machine learning\\data\\resultss.csv', encoding = 'utf8')\n",
    "df.apply(lambda x: pd.lib.infer_dtype(x.values))"
   ]
  },
  {
   "cell_type": "markdown",
   "metadata": {},
   "source": [
    "### Reading data"
   ]
  },
  {
   "cell_type": "code",
   "execution_count": 21,
   "metadata": {},
   "outputs": [
    {
     "data": {
      "text/html": [
       "<div>\n",
       "<style>\n",
       "    .dataframe thead tr:only-child th {\n",
       "        text-align: right;\n",
       "    }\n",
       "\n",
       "    .dataframe thead th {\n",
       "        text-align: left;\n",
       "    }\n",
       "\n",
       "    .dataframe tbody tr th {\n",
       "        vertical-align: top;\n",
       "    }\n",
       "</style>\n",
       "<table border=\"1\" class=\"dataframe\">\n",
       "  <thead>\n",
       "    <tr style=\"text-align: right;\">\n",
       "      <th></th>\n",
       "      <th>abandons</th>\n",
       "      <th>account_id</th>\n",
       "      <th>actions_per_min</th>\n",
       "      <th>ancient_kills</th>\n",
       "      <th>assists</th>\n",
       "      <th>backpack_0</th>\n",
       "      <th>backpack_1</th>\n",
       "      <th>backpack_2</th>\n",
       "      <th>buyback_count</th>\n",
       "      <th>camps_stacked</th>\n",
       "      <th>...</th>\n",
       "      <th>start_time</th>\n",
       "      <th>stuns</th>\n",
       "      <th>teamfight_participation</th>\n",
       "      <th>total_gold</th>\n",
       "      <th>total_xp</th>\n",
       "      <th>tower_damage</th>\n",
       "      <th>tower_kills</th>\n",
       "      <th>towers_killed</th>\n",
       "      <th>win</th>\n",
       "      <th>xp_per_min</th>\n",
       "    </tr>\n",
       "  </thead>\n",
       "  <tbody>\n",
       "    <tr>\n",
       "      <th>0</th>\n",
       "      <td>0</td>\n",
       "      <td>381798591.0</td>\n",
       "      <td>131.0</td>\n",
       "      <td>0.0</td>\n",
       "      <td>10</td>\n",
       "      <td>0.0</td>\n",
       "      <td>0.0</td>\n",
       "      <td>0.0</td>\n",
       "      <td>0.0</td>\n",
       "      <td>0.0</td>\n",
       "      <td>...</td>\n",
       "      <td>1527006038</td>\n",
       "      <td>26.178345</td>\n",
       "      <td>0.500000</td>\n",
       "      <td>22246</td>\n",
       "      <td>27965.0</td>\n",
       "      <td>4784.0</td>\n",
       "      <td>3.0</td>\n",
       "      <td>3.0</td>\n",
       "      <td>1</td>\n",
       "      <td>714</td>\n",
       "    </tr>\n",
       "    <tr>\n",
       "      <th>1</th>\n",
       "      <td>0</td>\n",
       "      <td>NaN</td>\n",
       "      <td>176.0</td>\n",
       "      <td>0.0</td>\n",
       "      <td>12</td>\n",
       "      <td>0.0</td>\n",
       "      <td>0.0</td>\n",
       "      <td>0.0</td>\n",
       "      <td>0.0</td>\n",
       "      <td>3.0</td>\n",
       "      <td>...</td>\n",
       "      <td>1527006038</td>\n",
       "      <td>0.000000</td>\n",
       "      <td>0.526316</td>\n",
       "      <td>16724</td>\n",
       "      <td>18721.0</td>\n",
       "      <td>1458.0</td>\n",
       "      <td>0.0</td>\n",
       "      <td>0.0</td>\n",
       "      <td>1</td>\n",
       "      <td>478</td>\n",
       "    </tr>\n",
       "    <tr>\n",
       "      <th>2</th>\n",
       "      <td>0</td>\n",
       "      <td>NaN</td>\n",
       "      <td>192.0</td>\n",
       "      <td>0.0</td>\n",
       "      <td>17</td>\n",
       "      <td>0.0</td>\n",
       "      <td>0.0</td>\n",
       "      <td>0.0</td>\n",
       "      <td>0.0</td>\n",
       "      <td>0.0</td>\n",
       "      <td>...</td>\n",
       "      <td>1527006038</td>\n",
       "      <td>43.595947</td>\n",
       "      <td>0.684211</td>\n",
       "      <td>13238</td>\n",
       "      <td>14961.0</td>\n",
       "      <td>381.0</td>\n",
       "      <td>0.0</td>\n",
       "      <td>0.0</td>\n",
       "      <td>1</td>\n",
       "      <td>382</td>\n",
       "    </tr>\n",
       "    <tr>\n",
       "      <th>3</th>\n",
       "      <td>0</td>\n",
       "      <td>110870904.0</td>\n",
       "      <td>150.0</td>\n",
       "      <td>0.0</td>\n",
       "      <td>17</td>\n",
       "      <td>0.0</td>\n",
       "      <td>0.0</td>\n",
       "      <td>0.0</td>\n",
       "      <td>0.0</td>\n",
       "      <td>0.0</td>\n",
       "      <td>...</td>\n",
       "      <td>1527006038</td>\n",
       "      <td>7.492188</td>\n",
       "      <td>0.578947</td>\n",
       "      <td>14530</td>\n",
       "      <td>20249.0</td>\n",
       "      <td>83.0</td>\n",
       "      <td>0.0</td>\n",
       "      <td>0.0</td>\n",
       "      <td>1</td>\n",
       "      <td>517</td>\n",
       "    </tr>\n",
       "    <tr>\n",
       "      <th>4</th>\n",
       "      <td>0</td>\n",
       "      <td>NaN</td>\n",
       "      <td>94.0</td>\n",
       "      <td>12.0</td>\n",
       "      <td>9</td>\n",
       "      <td>182.0</td>\n",
       "      <td>0.0</td>\n",
       "      <td>181.0</td>\n",
       "      <td>0.0</td>\n",
       "      <td>0.0</td>\n",
       "      <td>...</td>\n",
       "      <td>1527006038</td>\n",
       "      <td>0.000000</td>\n",
       "      <td>0.368421</td>\n",
       "      <td>23539</td>\n",
       "      <td>27886.0</td>\n",
       "      <td>7723.0</td>\n",
       "      <td>2.0</td>\n",
       "      <td>2.0</td>\n",
       "      <td>1</td>\n",
       "      <td>712</td>\n",
       "    </tr>\n",
       "  </tbody>\n",
       "</table>\n",
       "<p>5 rows × 88 columns</p>\n",
       "</div>"
      ],
      "text/plain": [
       "   abandons   account_id  actions_per_min  ancient_kills  assists  backpack_0  \\\n",
       "0         0  381798591.0            131.0            0.0       10         0.0   \n",
       "1         0          NaN            176.0            0.0       12         0.0   \n",
       "2         0          NaN            192.0            0.0       17         0.0   \n",
       "3         0  110870904.0            150.0            0.0       17         0.0   \n",
       "4         0          NaN             94.0           12.0        9       182.0   \n",
       "\n",
       "   backpack_1  backpack_2  buyback_count  camps_stacked     ...      \\\n",
       "0         0.0         0.0            0.0            0.0     ...       \n",
       "1         0.0         0.0            0.0            3.0     ...       \n",
       "2         0.0         0.0            0.0            0.0     ...       \n",
       "3         0.0         0.0            0.0            0.0     ...       \n",
       "4         0.0       181.0            0.0            0.0     ...       \n",
       "\n",
       "   start_time      stuns  teamfight_participation  total_gold  total_xp  \\\n",
       "0  1527006038  26.178345                 0.500000       22246   27965.0   \n",
       "1  1527006038   0.000000                 0.526316       16724   18721.0   \n",
       "2  1527006038  43.595947                 0.684211       13238   14961.0   \n",
       "3  1527006038   7.492188                 0.578947       14530   20249.0   \n",
       "4  1527006038   0.000000                 0.368421       23539   27886.0   \n",
       "\n",
       "   tower_damage  tower_kills  towers_killed  win  xp_per_min  \n",
       "0        4784.0          3.0            3.0    1         714  \n",
       "1        1458.0          0.0            0.0    1         478  \n",
       "2         381.0          0.0            0.0    1         382  \n",
       "3          83.0          0.0            0.0    1         517  \n",
       "4        7723.0          2.0            2.0    1         712  \n",
       "\n",
       "[5 rows x 88 columns]"
      ]
     },
     "execution_count": 21,
     "metadata": {},
     "output_type": "execute_result"
    }
   ],
   "source": [
    "### Show the first five rows of the data table\n",
    "df.head()"
   ]
  },
  {
   "cell_type": "markdown",
   "metadata": {},
   "source": [
    "Just out of curiosity, I want to know how well I did in the 2947 matches I played. Below is my total number of wins and losses."
   ]
  },
  {
   "cell_type": "code",
   "execution_count": 22,
   "metadata": {},
   "outputs": [
    {
     "data": {
      "text/plain": [
       "1    1479\n",
       "0    1468\n",
       "Name: win, dtype: int64"
      ]
     },
     "execution_count": 22,
     "metadata": {},
     "output_type": "execute_result"
    }
   ],
   "source": [
    "### get my match_details using my account_id\n",
    "df_my_match = df[df['account_id'] == 120236951] \n",
    "df_my_match['win'].value_counts()"
   ]
  },
  {
   "cell_type": "markdown",
   "metadata": {},
   "source": [
    "There are an equal number of 14735 for my losing and winning matches.Apparently, I have a 50.2% winning rate. It might look average, but for your information, I ended up in approximately the 95th percentile of all players in dota2. "
   ]
  },
  {
   "cell_type": "markdown",
   "metadata": {},
   "source": [
    "A correlation matrix gives an overview of the correlation between the features I want to study and the target feature (which is my wins). The results shows a positive correlation if they are close to 1 and negative correlation if they are close -1. Thus, let's compute a correlation matrix."
   ]
  },
  {
   "cell_type": "code",
   "execution_count": 23,
   "metadata": {},
   "outputs": [
    {
     "data": {
      "text/plain": [
       "win                    1.000000\n",
       "gold                   0.566857\n",
       "tower_damage           0.556291\n",
       "gold_per_min           0.546683\n",
       "kda                    0.490050\n",
       "towers_killed          0.454402\n",
       "xp_per_min             0.415524\n",
       "kills_per_min          0.369223\n",
       "tower_kills            0.363099\n",
       "total_gold             0.344635\n",
       "assists                0.325071\n",
       "kills                  0.312939\n",
       "gold_spent             0.307307\n",
       "level                  0.266810\n",
       "total_xp               0.255308\n",
       "roshans_killed         0.180404\n",
       "rune_pickups           0.178671\n",
       "roshan_kills           0.174983\n",
       "item_5                 0.139830\n",
       "last_hits              0.123430\n",
       "item_4                 0.105588\n",
       "hero_kills             0.100640\n",
       "hero_damage            0.094971\n",
       "firstblood_claimed     0.094631\n",
       "item_3                 0.079682\n",
       "lane_efficiency        0.078469\n",
       "lane_efficiency_pct    0.077589\n",
       "actions_per_min        0.076535\n",
       "denies                 0.068971\n",
       "item_1                 0.067397\n",
       "                         ...   \n",
       "duration               0.004865\n",
       "patch                  0.003946\n",
       "radiant_win            0.000222\n",
       "lane_role             -0.003908\n",
       "sen_placed            -0.007245\n",
       "cluster               -0.007625\n",
       "stuns                 -0.008887\n",
       "region                -0.009202\n",
       "party_id              -0.013563\n",
       "hero_id               -0.025736\n",
       "lobby_type            -0.029352\n",
       "player_slot           -0.031583\n",
       "party_size            -0.033429\n",
       "lane_kills            -0.051041\n",
       "observer_kills        -0.051708\n",
       "creeps_stacked        -0.051963\n",
       "camps_stacked         -0.054148\n",
       "abandons              -0.058569\n",
       "sentry_uses           -0.090196\n",
       "leaver_status         -0.108370\n",
       "buyback_count         -0.317446\n",
       "life_state_dead       -0.403315\n",
       "deaths                -0.430504\n",
       "lose                  -1.000000\n",
       "account_id                  NaN\n",
       "is_contributor              NaN\n",
       "purchase_gem                NaN\n",
       "purchase_rapier             NaN\n",
       "rank_tier                   NaN\n",
       "repicked                    NaN\n",
       "Name: win, Length: 82, dtype: float64"
      ]
     },
     "execution_count": 23,
     "metadata": {},
     "output_type": "execute_result"
    }
   ],
   "source": [
    "corr_matrix = df_my_match.corr()\n",
    "corr_matrix['win'].sort_values(ascending = False)"
   ]
  },
  {
   "cell_type": "markdown",
   "metadata": {},
   "source": [
    "### Possitive Correlation"
   ]
  },
  {
   "cell_type": "markdown",
   "metadata": {},
   "source": [
    "Accordingly, the top five positive correlations are:\n",
    "- gold:                   **0.566857**\n",
    "- tower_damage:           **0.556291**\n",
    "- gold_per_min:           **0.546683**\n",
    "- kda:                    **0.490050**\n",
    "- towers_killed:          **0.454402**"
   ]
  },
  {
   "cell_type": "markdown",
   "metadata": {},
   "source": [
    "Below are the descriptions of each feature:\n",
    "- **gold**\n",
    "integer\n",
    "Gold at the end of the game\n",
    "- **gold_per_min**\n",
    "integer\n",
    "Gold Per Minute obtained by this player\n",
    "- **kda**\n",
    "number\n",
    "kda (kills/deaths/assists)\n",
    "- **tower_damage**\n",
    "integer\n",
    "Total tower damage done by the player\n",
    "- **towers_killed**\tinteger\n",
    "Total number of tower kills the player had"
   ]
  },
  {
   "cell_type": "markdown",
   "metadata": {},
   "source": [
    "Let's check to see if these features are correlated to one another"
   ]
  },
  {
   "cell_type": "code",
   "execution_count": 41,
   "metadata": {},
   "outputs": [
    {
     "data": {
      "text/plain": [
       "Text(0.5,1,'Correlation Matrix')"
      ]
     },
     "execution_count": 41,
     "metadata": {},
     "output_type": "execute_result"
    },
    {
     "data": {
      "image/png": "[encoded data removed]",
      "text/plain": [
       "<Figure size 360x360 with 2 Axes>"
      ]
     },
     "metadata": {},
     "output_type": "display_data"
    }
   ],
   "source": [
    "cols_to_use = ['gold', 'gold_per_min', 'kda', 'tower_damage', 'towers_killed']\n",
    "%matplotlib inline\n",
    "import matplotlib.pyplot as plt\n",
    "plt.figure(figsize=(5,5))\n",
    "import seaborn as sns\n",
    "sns.heatmap(df_my_match[cols_to_use].corr(), annot = True)\n",
    "plt.title(\"Correlation Matrix\", size = 25)"
   ]
  },
  {
   "cell_type": "markdown",
   "metadata": {},
   "source": [
    "The correlation matrix shows that:\n",
    "- gold_per_min is highly correlated with tower_damage\n",
    "- tower_damage is highly correlated with towers_killed and gold_per_min\n",
    "- towers_killed is highly correlated with tower_damage"
   ]
  },
  {
   "cell_type": "markdown",
   "metadata": {},
   "source": [
    "In Dota2, killing a tower gives a player and their teammates a certain amount of gold. Thus, increase tower_damage results in an increase gold_per_min. Moreover, in order to destroy a tower, a player has to deal a certain amount of damage to the tower. Therefore, tower_damage also results in towers_killed. As a result, I'll focus on investigating tower_damage instead of the other two features. Since the feature 'gold' shows the total amount of gold a player has at the end of the game, even though it is not highly correlated with any single feature, it is correlated with all features. Thus, it should not be taken into consideration in my analysis. I will eliminate it."
   ]
  },
  {
   "cell_type": "markdown",
   "metadata": {},
   "source": [
    "In conclusion, the featurres I'll investigate is kda, tower_damage."
   ]
  },
  {
   "cell_type": "markdown",
   "metadata": {},
   "source": [
    "### Negative correlation"
   ]
  },
  {
   "cell_type": "markdown",
   "metadata": {},
   "source": [
    "And the top 5 negative correlations are:\n",
    "- abandons              **-0.058569**\n",
    "- sentry_uses           **-0.090196**\n",
    "- leaver_status         **-0.108370**\n",
    "- buyback_count         **-0.317446**\n",
    "- life_state_dead       **-0.403315**\n",
    "- deaths                **-0.430504**"
   ]
  },
  {
   "cell_type": "markdown",
   "metadata": {},
   "source": [
    "Some of the features in these aforementioned features lhave a lot of missing values (above 90% of the data is missing). Those are sentry_uses, leaver_status, buy_back_count, life_state_dead. As a result, the two variables I'll investigate are kda and deaths. Let's take a look at their correlations."
   ]
  },
  {
   "cell_type": "code",
   "execution_count": 43,
   "metadata": {},
   "outputs": [
    {
     "data": {
      "text/plain": [
       "-0.5993185975626274"
      ]
     },
     "execution_count": 43,
     "metadata": {},
     "output_type": "execute_result"
    }
   ],
   "source": [
    "df_my_match['kda'].corr(df_my_match['deaths'])"
   ]
  },
  {
   "cell_type": "markdown",
   "metadata": {},
   "source": [
    "Accordingly, they have a pretty high negative correlation. In fact, kda means kills/deaths/assists. Consequently, kda is  made up of deaths. Therefore, intead of investigating kda and deaths. I would investigate deaths, kills and assists separately. As a result, the features that I will investigate are abandons, deaths, kills and assists."
   ]
  },
  {
   "cell_type": "markdown",
   "metadata": {},
   "source": [
    "### Abandons and Winning Chance\n",
    "Since  Dota2 is a 5v5 game, the features in a game was designed so that the game would be optimally played when there's 5 players in a team. Thus, it's understandable that if one or a few of the players in a team abandons the game, that team is subject to a much higher chance of losing the game. As a result, it has long been known among players that an abandonment in their opponents' team means an absolute win for them. Let's check if this is true for my games"
   ]
  },
  {
   "cell_type": "code",
   "execution_count": 24,
   "metadata": {},
   "outputs": [
    {
     "data": {
      "text/plain": [
       "0    29263\n",
       "1      207\n",
       "Name: abandons, dtype: int64"
      ]
     },
     "execution_count": 24,
     "metadata": {},
     "output_type": "execute_result"
    }
   ],
   "source": [
    "### Count the number of abandons in my games. 1 means yes, 0 means no abandons.\n",
    "df['abandons'].value_counts()"
   ]
  },
  {
   "cell_type": "markdown",
   "metadata": {},
   "source": [
    "Rhere are ten individual players in a match and our dataset shows data for each individual player. Therefore, there might have been multiple abandons in the same game. Let's double check our results."
   ]
  },
  {
   "cell_type": "code",
   "execution_count": 25,
   "metadata": {},
   "outputs": [
    {
     "data": {
      "text/plain": [
       "match_id\n",
       "424045036     1\n",
       "427247312     1\n",
       "427419152     1\n",
       "431379283     1\n",
       "442990722     1\n",
       "463721090     1\n",
       "467992569     1\n",
       "474424219     1\n",
       "478574131     1\n",
       "478635885     1\n",
       "495486143     1\n",
       "497219997     1\n",
       "497655278     1\n",
       "499651349     1\n",
       "508440003     1\n",
       "509314371     1\n",
       "510965713     1\n",
       "512926750     1\n",
       "531691252     1\n",
       "542529652     1\n",
       "546239821     1\n",
       "547713404     1\n",
       "548915848     1\n",
       "551590460     1\n",
       "557435974     1\n",
       "574727841     1\n",
       "657767060     1\n",
       "771120484     1\n",
       "788085201     1\n",
       "798000906     1\n",
       "             ..\n",
       "3132623878    1\n",
       "3135007591    1\n",
       "3143125957    1\n",
       "3154000996    1\n",
       "3160124418    1\n",
       "3162240627    1\n",
       "3168582035    1\n",
       "3172615777    1\n",
       "3175102364    1\n",
       "3191818128    1\n",
       "3196655285    1\n",
       "3301344883    1\n",
       "3311415629    1\n",
       "3329912595    1\n",
       "3496748055    1\n",
       "3762307882    1\n",
       "3765255560    1\n",
       "3766385616    1\n",
       "3772161298    1\n",
       "3776185357    1\n",
       "3780124744    1\n",
       "3792364019    1\n",
       "3792906312    1\n",
       "3798186919    1\n",
       "3798796921    1\n",
       "3806671746    1\n",
       "3823793556    1\n",
       "3829148049    1\n",
       "3835322526    1\n",
       "3839002847    1\n",
       "Name: match_id, Length: 207, dtype: int64"
      ]
     },
     "execution_count": 25,
     "metadata": {},
     "output_type": "execute_result"
    }
   ],
   "source": [
    "### The code below will group the rows that have an abandonment and the same match_ids together \n",
    "### and calculate how many similar match_ids there are.\n",
    "df[df['abandons']==1].groupby('match_id').match_id.count()"
   ]
  },
  {
   "cell_type": "markdown",
   "metadata": {},
   "source": [
    "Accordingly, there are 207 matches with an abandonment each. This means that for the 207 matches with abandons in my match history, there is only 1 abandon for each. Now let's check how many of losses these abandonments result in.\n",
    "    "
   ]
  },
  {
   "cell_type": "code",
   "execution_count": 26,
   "metadata": {},
   "outputs": [
    {
     "data": {
      "text/plain": [
       "win\n",
       "0    168\n",
       "1     39\n",
       "Name: win, dtype: int64"
      ]
     },
     "execution_count": 26,
     "metadata": {},
     "output_type": "execute_result"
    }
   ],
   "source": [
    "### Count the number of wins when there is an abandon. 0 means loss while 1 means win.\n",
    "df[df['abandons']==1].groupby('win').win.count()"
   ]
  },
  {
   "cell_type": "markdown",
   "metadata": {},
   "source": [
    "So these abandonments result in 168 losses while only bring about 39 wins. This corresponds to a 81% losing rate for matches with abandonment. This is a significant factor in determining the result of the match even though it doesn't happen often as there are only 207 cases out of 2947 matches. "
   ]
  },
  {
   "cell_type": "markdown",
   "metadata": {},
   "source": [
    "### Tower Damage and Winning Chance\n",
    "In order to win a dota2 match, each team has to destroy the throne of the other team. Before reaching the throne, each team has to destroy layers of towers, however. Therefore, a predictor of winning is the total damage done to towers by each team. "
   ]
  },
  {
   "cell_type": "code",
   "execution_count": 27,
   "metadata": {},
   "outputs": [
    {
     "data": {
      "text/plain": [
       "Text(0.5,1,'Losing Matches')"
      ]
     },
     "execution_count": 27,
     "metadata": {},
     "output_type": "execute_result"
    },
    {
     "data": {
      "image/png": "[encoded data removed]",
      "text/plain": [
       "<Figure size 1080x360 with 2 Axes>"
      ]
     },
     "metadata": {},
     "output_type": "display_data"
    }
   ],
   "source": [
    "### Plotting the distribution of tower damage for winning matches\n",
    "plt.figure(figsize= (15,5))\n",
    "plt.subplot(1,3,1)\n",
    "df[df['win']==1].groupby('match_id')['tower_damage'].sum().dropna().plot.hist()\n",
    "plt.xlabel('total_dmg')\n",
    "plt.ylabel('number_of_matches')\n",
    "plt.title('Winning Matches')\n",
    "### Plotting the distribution of tower damage for losing matches\n",
    "plt.subplot(1,3,3)\n",
    "plt.subplots_adjust(top=6,bottom=5)\n",
    "df[df['win']==0].groupby('match_id')['tower_damage'].sum().dropna().plot.hist()\n",
    "plt.xlabel('total_dmg')\n",
    "plt.ylabel('number_of_matches')\n",
    "plt.title('Losing Matches')"
   ]
  },
  {
   "cell_type": "markdown",
   "metadata": {},
   "source": [
    "The plot on the left plots the number of winning matches vs total_damage dealt to towers by the winning team for each match. On the other hand, the plot on the right plots the number of losing matches vs total_damage dealt to towers by the losing team for each match. There's a clear trend on the right. As the total_damage increases, the number of losing matches decreases. The number of winning matches also increases as the total_damage increases. However, the number of winnning matches starts to decrease once the total_damage passes a certain point. These plots show that total_damage dealt to towers do play a major role in determining the winning probability. However, there is an optimal point for the total_damage variable. Once this point is reached, further damage dealt to towers may not significantly increase the chance of winning. Given that towers do get healed up over time, the fact that more damage than the optimal point is done means that the towers are not destroyed over time. This signifies a highly contested game whenever the total_damage dealt to towers surpasses the optimal point."
   ]
  },
  {
   "cell_type": "markdown",
   "metadata": {},
   "source": [
    "### Hero Damage and Winning Chance\n",
    "Since each team has to fight for resources and to get objectives, total damage dealt to heroes can also contribute to the winning probability of the game. Let's take a look."
   ]
  },
  {
   "cell_type": "code",
   "execution_count": 28,
   "metadata": {},
   "outputs": [
    {
     "data": {
      "text/plain": [
       "Text(0.5,1,'losing matches')"
      ]
     },
     "execution_count": 28,
     "metadata": {},
     "output_type": "execute_result"
    },
    {
     "data": {
      "image/png": "[encoded data removed]",
      "text/plain": [
       "<Figure size 1080x360 with 2 Axes>"
      ]
     },
     "metadata": {},
     "output_type": "display_data"
    }
   ],
   "source": [
    "### Graph the distribution of the total hero damage in winning matches\n",
    "plt.figure(figsize = (15,5))\n",
    "plt.subplot(1,3,1)\n",
    "df[df['win']==1].groupby('match_id')['hero_damage'].sum().dropna().plot.hist()\n",
    "plt.xlabel('total_dmg')\n",
    "plt.ylabel('number_of_matches')\n",
    "plt.xticks(rotation=70)\n",
    "plt.title('winning matches')\n",
    "### Graph the distribution of the total hero damage in losing matches\n",
    "plt.subplot(1,3,3)\n",
    "plt.subplots_adjust(top=6,bottom=5)\n",
    "df[df['win']==0].groupby('match_id')['hero_damage'].sum().dropna().plot.hist()\n",
    "plt.xlabel('total_dmg')\n",
    "plt.xticks(rotation=70)\n",
    "plt.ylabel('number_of_matches')\n",
    "plt.title('losing matches')"
   ]
  },
  {
   "cell_type": "markdown",
   "metadata": {},
   "source": [
    "These two graphs look almost identical. The graph shows that total damage dealt to heroes is not a good predictor of winning."
   ]
  },
  {
   "cell_type": "markdown",
   "metadata": {},
   "source": [
    "### Radiant and Winning Chance\n",
    "It has long been hypothesized by the Dota2 community that being on the Radiant size is more advantagous than being on the Dire side. Let's see if this is true."
   ]
  },
  {
   "cell_type": "markdown",
   "metadata": {},
   "source": [
    "For this investigation, I will use only my match data since it is more convenient and won't change the nature of the investigation. Because Dota2 is constantly updated and renewed, being on the Radiant side in this patch might mean different thing from being on the Radiant side in a later patch. In my opinion, being on the Radiant team is more advantageous only when the win rate is more than 60%. Thus, I will investigate the win rate for the Radiant team in my match across patches. "
   ]
  },
  {
   "cell_type": "code",
   "execution_count": 29,
   "metadata": {},
   "outputs": [
    {
     "name": "stdout",
     "output_type": "stream",
     "text": [
      "26\n",
      "2\n",
      "8\n",
      "15\n"
     ]
    },
    {
     "data": {
      "text/plain": [
       "[<matplotlib.lines.Line2D at 0x23638034320>]"
      ]
     },
     "execution_count": 29,
     "metadata": {},
     "output_type": "execute_result"
    },
    {
     "data": {
      "image/png": "[encoded data removed]",
      "text/plain": [
       "<Figure size 432x288 with 1 Axes>"
      ]
     },
     "metadata": {},
     "output_type": "display_data"
    }
   ],
   "source": [
    "### get the total number of wins for each patch\n",
    "df_radiant_win = df_my_match[df_my_match['radiant_win']==1]['patch'].dropna().value_counts().sort_index()\n",
    "### get the total number of matches for each patch\n",
    "df_patch = df_my_match['patch'].dropna().value_counts().sort_index()\n",
    "### calculate the proportion of wins in each patch and save it to variable Patch_win_rate\n",
    "Patch_win_rate = (df_radiant_win / df_patch)\n",
    "### print the total number of patches and total number of patches where the rate of winning is more than 60% on the Radiant side\n",
    "print(len(Patch_win_rate))\n",
    "print(len(Patch_win_rate[Patch_win_rate > 0.6]))\n",
    "print(len(Patch_win_rate[Patch_win_rate > 0.55]))\n",
    "### print the toal number of patches with more than 50% win rate for the Radiant side\n",
    "print(len(Patch_win_rate[Patch_win_rate > 0.5]))\n",
    "\n",
    "### Plot the winrate against the patches\n",
    "plt.plot(Patch_win_rate.index, Patch_win_rate)\n",
    "plt.xlabel('Patch')\n",
    "plt.ylabel('Win rate')\n",
    "plt.title(\"Win Rate across each Patch\")\n",
    "threshold = 0.6\n",
    "\n",
    "\n",
    "# horizontal line indicating the threshold which  is 0.6\n",
    "plt.plot([5, 35], [threshold, threshold], \"r--\")\n"
   ]
  },
  {
   "cell_type": "markdown",
   "metadata": {},
   "source": [
    "The total number of patches are 26. Of the 26 patches, only in 2 of them, the Radiant side has more than 60% percent win rate. Only 8 out of 26 have a win rate bigger than 55% for the Radiant side. And there are 15 patches with win rate more than 50% for the Radiant side. The numbers as well as the graph show that being on the Radiant side does not give clear advantage across patches. "
   ]
  },
  {
   "cell_type": "markdown",
   "metadata": {},
   "source": [
    "### Kills/ Deaths/ Assists (KDA) and Winning Chance\n",
    "Since Dota2 is a strategic combat game, each team will have to involve in fighting. The better a team is, the better the figures related to KDA will be. For example, if a team is winning, they will generally have more kills, less deaths and more assists. Thus, KDA can be a good predictor of winning probabilities for a team. Let's investigate kills, deaths and assists seperately."
   ]
  },
  {
   "cell_type": "markdown",
   "metadata": {},
   "source": [
    "#### Kills and Winning Chance"
   ]
  },
  {
   "cell_type": "code",
   "execution_count": 30,
   "metadata": {},
   "outputs": [
    {
     "name": "stdout",
     "output_type": "stream",
     "text": [
      "Mean kill in a win match: 8.299898201560909 , Median kill in a win match: 7.0\n",
      "The interquartile range kill for a win match:  7.0\n",
      "------------------------------------------------------------\n",
      "Mean kill in a loss match: 5.44411265693926 , Median kill in a loss match: 5.0\n",
      "The interquartile range kill for a loss match:  6.0\n"
     ]
    }
   ],
   "source": [
    "### Print out the mean and median kills for a win match\n",
    "print( 'Mean kill in a win match:', df[df['win'] ==1]['kills'].mean(),', ' \n",
    "      'Median kill in a win match:', df[df['win'] ==1]['kills'].median())\n",
    "### Print out the interquartile range kills for a win match\n",
    "print('The interquartile range kill for a win match: ',\n",
    "      df[df['win'] ==1]['kills'].quantile(0.75) - df[df['win'] ==1]['kills'].quantile(0.25))\n",
    "print('---'*20)\n",
    "### Print out the mean and median kills for a loss match\n",
    "print('Mean kill in a loss match:', df[df['win'] ==0]['kills'].mean(),', ' \n",
    "      'Median kill in a loss match:', df[df['win'] ==0]['kills'].median())\n",
    "### Print out the interquartile range kills for a loss match\n",
    "print('The interquartile range kill for a loss match: ',\n",
    "      df[df['win'] ==0]['kills'].quantile(0.75) - df[df['win'] ==0]['kills'].quantile(0.25))\n"
   ]
  },
  {
   "cell_type": "code",
   "execution_count": 31,
   "metadata": {},
   "outputs": [
    {
     "data": {
      "text/plain": [
       "[Text(0,0.5,'number of kills'), Text(0.5,0,'')]"
      ]
     },
     "execution_count": 31,
     "metadata": {},
     "output_type": "execute_result"
    },
    {
     "data": {
      "image/png": "[encoded data removed]",
      "text/plain": [
       "<Figure size 432x288 with 1 Axes>"
      ]
     },
     "metadata": {},
     "output_type": "display_data"
    }
   ],
   "source": [
    "### Graph a boxplot graph of the distribution of the number of kills in win and loss matches\n",
    "g = sns.boxplot(x = 'win', y='kills', data = df )\n",
    "g.set(xticklabels= ['loss', 'win'])\n",
    "g.set(xlabel = '', ylabel = 'number of kills')"
   ]
  },
  {
   "cell_type": "markdown",
   "metadata": {},
   "source": [
    "The graph shows that the total number of kills in a match for the winning team is generally greater than that of the losing team. In particular, the mean kill for a winning team is approximately 8.3 while that of the losing team is about 5.4. The median is 7.0 and 5.0, respectively. While the interquartile range is 7.0 and 6.0, respectively. Therefore, kills is a good predictor for winning probability."
   ]
  },
  {
   "cell_type": "markdown",
   "metadata": {},
   "source": [
    "#### Deaths and winning chance"
   ]
  },
  {
   "cell_type": "code",
   "execution_count": 32,
   "metadata": {},
   "outputs": [
    {
     "name": "stdout",
     "output_type": "stream",
     "text": [
      "Mean deaths in a win match: 5.706277570410587 , Median deaths in a win match: 5.0\n",
      "The interquartile range deaths for a win match:  5.0\n",
      "------------------------------------------------------------\n",
      "Mean deaths in a loss match: 8.525755005089922 , Median deaths in a loss match: 8.0\n",
      "The interquartile range deaths for a loss match:  5.0\n"
     ]
    }
   ],
   "source": [
    "### Print out the mean and median deaths for a win match\n",
    "print( 'Mean deaths in a win match:', df[df['win'] ==1]['deaths'].mean(),', ' \n",
    "      'Median deaths in a win match:', df[df['win'] ==1]['deaths'].median())\n",
    "### Print out the interquartile range deaths for a win match\n",
    "print('The interquartile range deaths for a win match: ',\n",
    "      df[df['win'] ==1]['deaths'].quantile(0.75) - df[df['win'] ==1]['deaths'].quantile(0.25))\n",
    "print('---' * 20)\n",
    "### Print out the mean and median deaths for a loss match\n",
    "print('Mean deaths in a loss match:', df[df['win'] ==0]['deaths'].mean(),', ' \n",
    "      'Median deaths in a loss match:', df[df['win'] ==0]['deaths'].median())\n",
    "### Print out the interquartile range deaths for a loss match\n",
    "print('The interquartile range deaths for a loss match: ',\n",
    "      df[df['win'] ==0]['deaths'].quantile(0.75) - df[df['win'] ==0]['deaths'].quantile(0.25))"
   ]
  },
  {
   "cell_type": "code",
   "execution_count": 33,
   "metadata": {},
   "outputs": [
    {
     "data": {
      "text/plain": [
       "[Text(0,0.5,'number of deaths'), Text(0.5,0,'')]"
      ]
     },
     "execution_count": 33,
     "metadata": {},
     "output_type": "execute_result"
    },
    {
     "data": {
      "image/png": "[encoded data removed]",
      "text/plain": [
       "<Figure size 432x288 with 1 Axes>"
      ]
     },
     "metadata": {},
     "output_type": "display_data"
    }
   ],
   "source": [
    "### Graph a boxplot graph of the distribution of the number of deaths in win and loss matches\n",
    "g = sns.boxplot(x = 'win', y='deaths', data = df )\n",
    "g.set(xticklabels= ['loss', 'win'])\n",
    "g.set(xlabel = '', ylabel = 'number of deaths')"
   ]
  },
  {
   "cell_type": "markdown",
   "metadata": {},
   "source": [
    "The trend is reverse this time which makes sense. The losing team will often suffer more, thus, receiving more deaths on their side. On the other hand, the winning team will receive less deaths. The mean and median for the losing team are 8.53 and 8.0, respectively. While those for the winning team are 5.7 and 5.0, respectively. The interquartile range is, however, similar. "
   ]
  },
  {
   "cell_type": "markdown",
   "metadata": {},
   "source": [
    "#### Assists and Winning chance"
   ]
  },
  {
   "cell_type": "code",
   "execution_count": 34,
   "metadata": {},
   "outputs": [
    {
     "name": "stdout",
     "output_type": "stream",
     "text": [
      "Mean assists in a win match: 14.824974550390227 , Median assists in a win match: 14.0\n",
      "The interquartile range for a win match:  9.0\n",
      "------------------------------------------------------------\n",
      "Mean assists in a loss match: 9.815473362741772 , Median assists in a loss match: 9.0\n",
      "The interquartile range assists for a loss match:  8.0\n"
     ]
    }
   ],
   "source": [
    "### Print out the mean and median assists for a win match\n",
    "print( 'Mean assists in a win match:', df[df['win'] ==1]['assists'].mean(),', ' \n",
    "      'Median assists in a win match:', df[df['win'] ==1]['assists'].median())\n",
    "### Print out the interquartile range assists for a win match\n",
    "print('The interquartile range for a win match: ',\n",
    "      df[df['win'] ==1]['assists'].quantile(0.75) - df[df['win'] ==1]['assists'].quantile(0.25))\n",
    "print('---' * 20)\n",
    "### Print out the mean and median assists for a loss match\n",
    "print('Mean assists in a loss match:', df[df['win'] ==0]['assists'].mean(),', ' \n",
    "      'Median assists in a loss match:', df[df['win'] ==0]['assists'].median())\n",
    "### Print out the interquartile range assists for a loss match\n",
    "print('The interquartile range assists for a loss match: ',\n",
    "      df[df['win'] ==0]['assists'].quantile(0.75) - df[df['win'] ==0]['assists'].quantile(0.25))"
   ]
  },
  {
   "cell_type": "code",
   "execution_count": 35,
   "metadata": {},
   "outputs": [
    {
     "data": {
      "text/plain": [
       "[Text(0,0.5,'number of deaths'), Text(0.5,0,'')]"
      ]
     },
     "execution_count": 35,
     "metadata": {},
     "output_type": "execute_result"
    },
    {
     "data": {
      "image/png": "[encoded data removed]",
      "text/plain": [
       "<Figure size 432x288 with 1 Axes>"
      ]
     },
     "metadata": {},
     "output_type": "display_data"
    }
   ],
   "source": [
    "### Graph a boxplot graph of the distribution of the number of assists in win and loss matches\n",
    "g = sns.boxplot(x = 'win', y='assists', data = df )\n",
    "g.set(xticklabels= ['loss', 'win'])\n",
    "g.set(xlabel = '', ylabel = 'number of deaths')"
   ]
  },
  {
   "cell_type": "markdown",
   "metadata": {},
   "source": [
    "The graph also displays a trend that a winning team will usually have more assists in a game than the losing team. The mean and median for the losing and winning team are 9.8, 9.0 , 14.8, 14.0, respectively. The graph, however, shows one interesting thing. The outlier in the losing team is greater than that of the winning team. This shows that, sometimes, in a match, players in a losing team have more assists than those of the winning team. This implies that support roles(those who generally don't get the kills but assists instead) don't determine the final outcome of the match. "
   ]
  },
  {
   "cell_type": "markdown",
   "metadata": {},
   "source": [
    "### Conclusion\n",
    "- ** the findings show that abandons, tower_damage and kda play a big role in determining the winning probability of the match. **\n",
    "- ** Being on the radiant side does not give a clear advantage across patches.**\n",
    "- ** hero_damage is not a good predictor of winning. **"
   ]
  },
  {
   "cell_type": "markdown",
   "metadata": {},
   "source": [
    "### Moving forward\n",
    "- ** There are some other potential featurres that could contribute to winning chances such as last_hits, denies.  In the future I would like to see how they contribute to a predictive model. **\n",
    "- ** The next step for my analysis is to build a predictive model based on the features that I have done the analysis on.**"
   ]
  },
  {
   "cell_type": "code",
   "execution_count": null,
   "metadata": {
    "collapsed": true
   },
   "outputs": [],
   "source": []
  }
 ],
 "metadata": {
  "kernelspec": {
   "display_name": "Python 3",
   "language": "python",
   "name": "python3"
  }
 },
 "nbformat": 4,
 "nbformat_minor": 2
}
